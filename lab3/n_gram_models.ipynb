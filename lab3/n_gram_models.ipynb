{
  "cells": [
    {
      "cell_type": "markdown",
      "metadata": {
        "id": "view-in-github",
        "colab_type": "text"
      },
      "source": [
        "<a href=\"https://colab.research.google.com/github/PimiYvan/nlp_mnb_logreg/blob/main/n_gram_models.ipynb\" target=\"_parent\"><img src=\"https://colab.research.google.com/assets/colab-badge.svg\" alt=\"Open In Colab\"/></a>"
      ]
    },
    {
      "cell_type": "markdown",
      "metadata": {
        "id": "XJa5zQIIHrDf"
      },
      "source": [
        "\n",
        "<h1 style=\"font-family:verdana;font-size:300%;text-align:center;background-color:#f2f2f2;color:#0d0d0d\">AMMI NLP - Review sessions</h1>\n",
        "\n",
        "<h1 style=\"font-family:verdana;font-size:180%;text-align:Center;color:#993333\"> Lab 3: n-gram models </h1>"
      ]
    },
    {
      "cell_type": "markdown",
      "metadata": {
        "id": "gG9fXHsLHrDm"
      },
      "source": [
        "**Big thanks to Amr Khalifa who improved this lab and made it to a Jupyter Notebook!**"
      ]
    },
    {
      "cell_type": "code",
      "execution_count": 164,
      "metadata": {
        "id": "MSWKUZU6HrDq"
      },
      "outputs": [],
      "source": [
        "import io, sys, math, re\n",
        "from collections import defaultdict\n",
        "import numpy as np"
      ]
    },
    {
      "cell_type": "code",
      "execution_count": 165,
      "metadata": {
        "id": "unCcJ67iHrDy"
      },
      "outputs": [],
      "source": [
        "# data_loader\n",
        "def load_data(filename):\n",
        "    '''\n",
        "    parameters:\n",
        "    filename (string): datafile\n",
        "    \n",
        "    Returns:\n",
        "    data (list of lists): each list is a sentence of the text \n",
        "    vocab (dictionary): {word: no of times it appears in the text}\n",
        "    '''\n",
        "    fin = io.open(filename, 'r', encoding='utf-8')\n",
        "    data = []\n",
        "    vocab = defaultdict(lambda:0)\n",
        "    for line in fin:\n",
        "        sentence = line.split()\n",
        "        data.append(sentence)\n",
        "        for word in sentence:\n",
        "            vocab[word] += 1\n",
        "    return data, vocab"
      ]
    },
    {
      "cell_type": "code",
      "execution_count": 166,
      "metadata": {
        "id": "8tFCTaBjHrDz",
        "colab": {
          "base_uri": "https://localhost:8080/"
        },
        "outputId": "24c4f5cf-9225-4381-aa64-631a22278817"
      },
      "outputs": [
        {
          "output_type": "stream",
          "name": "stdout",
          "text": [
            "load training set..\n",
            "\n",
            "\n",
            "['<s>', 'my', 'fathers', \"don't\", 'speak', 'dutch.', '</s>']\n",
            "\n",
            "\n",
            "how : 107\n",
            "load validation set\n"
          ]
        }
      ],
      "source": [
        "\n",
        "print(\"load training set..\")\n",
        "print(\"\\n\")\n",
        "train_data, vocab = load_data(\"train1.txt\")\n",
        "print(train_data[0])\n",
        "print(\"\\n\")\n",
        "print(\"how :\",vocab['how'])\n",
        "print(\"load validation set\")\n",
        "valid_data, _ = load_data(\"valid1.txt\")\n"
      ]
    },
    {
      "cell_type": "code",
      "execution_count": 167,
      "metadata": {
        "id": "IZF2QANNHrD0"
      },
      "outputs": [],
      "source": [
        "def remove_rare_words(data, vocab, mincount = 1):\n",
        "    '''\n",
        "    Parameters:\n",
        "    data (list of lists): each list is a sentence of the text \n",
        "    vocab (dictionary): {word: no of times it appears in the text}\n",
        "    mincount(int): the minimum count \n",
        "    \n",
        "    Returns: \n",
        "    data_with_unk(list of lists): data after replacing rare words with <unk> token\n",
        "    '''\n",
        "    # replace words in data that are not in the vocab \n",
        "    # or have a count that is below mincount\n",
        "    data_with_unk = []\n",
        "    # print(data, 'data')\n",
        "    ## FILL CODE\n",
        "    unk_token = '<unk>'\n",
        "    for line in data: \n",
        "        unk_sentence = []\n",
        "        for word in line:\n",
        "            if vocab[word] > mincount:\n",
        "                unk_sentence.append(word)\n",
        "            else:\n",
        "                unk_sentence.append(unk_token)\n",
        "                \n",
        "        data_with_unk.append(unk_sentence)\n",
        "    # print(data_with_unk)\n",
        "    return data_with_unk"
      ]
    },
    {
      "cell_type": "code",
      "source": [
        "# vocab['sami']"
      ],
      "metadata": {
        "id": "tl9U0vcw_AT5"
      },
      "execution_count": 168,
      "outputs": []
    },
    {
      "cell_type": "code",
      "execution_count": 169,
      "metadata": {
        "id": "MRokGqQ_HrD1",
        "colab": {
          "base_uri": "https://localhost:8080/"
        },
        "outputId": "d85b6092-e4b0-47a8-bbe7-1cdcff2a6b21"
      },
      "outputs": [
        {
          "output_type": "stream",
          "name": "stdout",
          "text": [
            "remove rare words\n",
            "['<s>', 'my', '<unk>', \"don't\", 'speak', '<unk>', '</s>']\n"
          ]
        }
      ],
      "source": [
        "print(\"remove rare words\")\n",
        "train_data = remove_rare_words(train_data, vocab, mincount = 1)\n",
        "valid_data = remove_rare_words(valid_data, vocab, mincount = 1)\n",
        "#train_data\n",
        "print(train_data[0])\n",
        "# valid_data[:4]"
      ]
    },
    {
      "cell_type": "code",
      "source": [
        "# train_data[:20]"
      ],
      "metadata": {
        "id": "ZFwEMcerZD_A"
      },
      "execution_count": 170,
      "outputs": []
    },
    {
      "cell_type": "code",
      "execution_count": 171,
      "metadata": {
        "id": "5hjh7FQHHrD3"
      },
      "outputs": [],
      "source": [
        "def build_ngram(data, n):\n",
        "    '''\n",
        "    Parameters:\n",
        "    data (list of lists): each list is a sentence of the text \n",
        "    n (int): size of the n-gram\n",
        "    \n",
        "    Returns:\n",
        "    prob (dictionary of dictionary)\n",
        "    {\n",
        "        context: {word:probability of this word given context}\n",
        "    }\n",
        "    '''\n",
        "    total_number_words = 0         \n",
        "    counts = defaultdict(lambda: defaultdict(lambda: 0.0))\n",
        "\n",
        "    for sentence in data:\n",
        "        sentence = tuple(sentence)\n",
        "        size = len(sentence)\n",
        "\n",
        "        for j in range(n):\n",
        "            for i in range(size - j):\n",
        "                context = sentence[ i : i + j]\n",
        "                counts[context][sentence[i+j]] += 1\n",
        "        \n",
        "        ## FILL CODE\n",
        "        # dict can be indexed by tuples\n",
        "        # store in the same dict all the ngrams\n",
        "        # by using the context as a key and the word as a value\n",
        "\n",
        "        # for i in range(size - n):\n",
        "        #     context = sentence[ i : i + n]\n",
        "        #     counts[context][sentence[i+n]] += 1\n",
        "        \n",
        "    \n",
        "    # print(counts)\n",
        "    prob = defaultdict(lambda: defaultdict(lambda: 0.0))\n",
        "    # Build the probabilities from the counts\n",
        "    # Be careful with how you normalize!\n",
        "\n",
        "    for context in counts.keys():\n",
        "        \n",
        "        ## FILL CODE\n",
        "        total_count = 0 \n",
        "        for word in counts[context]:\n",
        "            total_count += counts[context][word]\n",
        "\n",
        "        for word in counts[context]:\n",
        "            prob[context][word] = (counts[context][word]+0)/(total_count+0)\n",
        "\n",
        "    return prob"
      ]
    },
    {
      "cell_type": "code",
      "source": [
        "# train_data[:6]\n",
        "tokens = train_data[:2]\n",
        "# print(tokens)\n",
        "output = build_ngram(tokens, 2)\n",
        "output"
      ],
      "metadata": {
        "id": "GoEHl0AbValG",
        "colab": {
          "base_uri": "https://localhost:8080/"
        },
        "outputId": "baf2e907-36dc-4314-f63a-06c9b9d49974"
      },
      "execution_count": 172,
      "outputs": [
        {
          "output_type": "execute_result",
          "data": {
            "text/plain": [
              "defaultdict(<function __main__.build_ngram.<locals>.<lambda>>,\n",
              "            {(): defaultdict(<function __main__.build_ngram.<locals>.<lambda>.<locals>.<lambda>>,\n",
              "                         {'</s>': 0.15384615384615385,\n",
              "                          '<s>': 0.15384615384615385,\n",
              "                          '<unk>': 0.15384615384615385,\n",
              "                          \"don't\": 0.07692307692307693,\n",
              "                          'election.': 0.07692307692307693,\n",
              "                          'is': 0.07692307692307693,\n",
              "                          'my': 0.07692307692307693,\n",
              "                          'speak': 0.07692307692307693,\n",
              "                          'the': 0.07692307692307693,\n",
              "                          'tomorrow': 0.07692307692307693}),\n",
              "             ('<s>',): defaultdict(<function __main__.build_ngram.<locals>.<lambda>.<locals>.<lambda>>,\n",
              "                         {'my': 0.5, 'tomorrow': 0.5}),\n",
              "             ('<unk>',): defaultdict(<function __main__.build_ngram.<locals>.<lambda>.<locals>.<lambda>>,\n",
              "                         {'</s>': 0.5, \"don't\": 0.5}),\n",
              "             (\"don't\",): defaultdict(<function __main__.build_ngram.<locals>.<lambda>.<locals>.<lambda>>,\n",
              "                         {'speak': 1.0}),\n",
              "             ('election.',): defaultdict(<function __main__.build_ngram.<locals>.<lambda>.<locals>.<lambda>>,\n",
              "                         {'</s>': 1.0}),\n",
              "             ('is',): defaultdict(<function __main__.build_ngram.<locals>.<lambda>.<locals>.<lambda>>,\n",
              "                         {'the': 1.0}),\n",
              "             ('my',): defaultdict(<function __main__.build_ngram.<locals>.<lambda>.<locals>.<lambda>>,\n",
              "                         {'<unk>': 1.0}),\n",
              "             ('speak',): defaultdict(<function __main__.build_ngram.<locals>.<lambda>.<locals>.<lambda>>,\n",
              "                         {'<unk>': 1.0}),\n",
              "             ('the',): defaultdict(<function __main__.build_ngram.<locals>.<lambda>.<locals>.<lambda>>,\n",
              "                         {'election.': 1.0}),\n",
              "             ('tomorrow',): defaultdict(<function __main__.build_ngram.<locals>.<lambda>.<locals>.<lambda>>,\n",
              "                         {'is': 1.0})})"
            ]
          },
          "metadata": {},
          "execution_count": 172
        }
      ]
    },
    {
      "cell_type": "code",
      "execution_count": 173,
      "metadata": {
        "id": "QlCMx8dyHrD4",
        "colab": {
          "base_uri": "https://localhost:8080/"
        },
        "outputId": "38afa6ca-053c-4e21-df48-91e50cee06cc"
      },
      "outputs": [
        {
          "output_type": "stream",
          "name": "stdout",
          "text": [
            "build ngram model with n =  2\n"
          ]
        }
      ],
      "source": [
        "# RUN TO BUILD NGRAM MODEL\n",
        "\n",
        "n = 2\n",
        "print(\"build ngram model with n = \", n)\n",
        "model = build_ngram(train_data, n)\n",
        "# model"
      ]
    },
    {
      "cell_type": "markdown",
      "metadata": {
        "id": "u0UxhwFGHrD5"
      },
      "source": [
        "Here, implement a recursive function over shorter and shorter context to compute a \"stupid backoff model\". An interpolation model can also be implemented this way."
      ]
    },
    {
      "cell_type": "code",
      "execution_count": 174,
      "metadata": {
        "id": "-bJ_t_3sHrD6"
      },
      "outputs": [],
      "source": [
        "def get_prob(model, context, w):\n",
        "    '''\n",
        "    Parameters: \n",
        "    model (dictionary of dictionary)\n",
        "    {\n",
        "        context: {word:probability of this word given context}\n",
        "    } \n",
        "    context (list of strings): a sentence\n",
        "    w(string): the word we need to find it's probability given the context\n",
        "    \n",
        "    Retunrs:\n",
        "    prob(float): probability of this word given the context \n",
        "    '''\n",
        "\n",
        "    # code a recursive function over \n",
        "    # smaller and smaller context\n",
        "    # to compute the backoff model\n",
        "    \n",
        "\n",
        "    ## FILL CODE\n",
        "    # n_gram = len(list(model)[0])\n",
        "    # size_context = len(context)\n",
        "    # probs = model[context[-n_gram:]][w]\n",
        "    # print(context)\n",
        "    probs = model[context][w]\n",
        "    if probs > 0:\n",
        "        return probs\n",
        "    else:\n",
        "        # return 0.4 * get_prob(model, context[:-1], w)\n",
        "        return 0.4 * get_prob(model, context[1:], w)\n",
        "\n",
        "    return 0.0\n"
      ]
    },
    {
      "cell_type": "code",
      "source": [
        "context = tuple(valid_data[0])\n",
        "print(context)\n",
        "w = context[-2]\n",
        "context = context[:-2]\n",
        "print(context, w)\n",
        "\n",
        "get_prob(model, context, w)"
      ],
      "metadata": {
        "colab": {
          "base_uri": "https://localhost:8080/"
        },
        "id": "LsuX_kCtubbO",
        "outputId": "b8075ede-b367-4420-901f-3aae76864ec5"
      },
      "execution_count": 175,
      "outputs": [
        {
          "output_type": "stream",
          "name": "stdout",
          "text": [
            "('<s>', 'we', '<unk>', 'over', 'the', 'decision', 'to', 'do', 'that.', '</s>')\n",
            "('<s>', 'we', '<unk>', 'over', 'the', 'decision', 'to', 'do') that.\n"
          ]
        },
        {
          "output_type": "execute_result",
          "data": {
            "text/plain": [
              "0.000550841379310345"
            ]
          },
          "metadata": {},
          "execution_count": 175
        }
      ]
    },
    {
      "cell_type": "code",
      "execution_count": 176,
      "metadata": {
        "id": "-A7tG8l0HrD7"
      },
      "outputs": [],
      "source": [
        "def perplexity(model, data, n):\n",
        "    '''\n",
        "    Parameters: \n",
        "    model (dictionary of dictionary)\n",
        "    {\n",
        "        context: {word:probability of this word given context}\n",
        "    } \n",
        "    data (list of lists): each list is a sentence of the text\n",
        "    n(int): size of the n-gram\n",
        "    \n",
        "    Retunrs:\n",
        "    perp(float): the perplexity of the model \n",
        "    '''\n",
        "    ## FILL CODE\n",
        "    # outputs = 1\n",
        "    # sum_probs = 0\n",
        "    # N = 0\n",
        "    # for sentence in data:\n",
        "    #     N+= len(sentence)\n",
        "    #     sentence = tuple(sentence)\n",
        "    #     probs = get_prob(model, sentence[:-1], sentence[-1])\n",
        "    #     # sum_probs += -math.log2(probs)\n",
        "    #     sum_probs += -math.log(probs)\n",
        "    #     # print(sentence, probs)\n",
        "    #     # inv = 1 / probs\n",
        "    #     # print(pow(inv, (1/(2*n))))\n",
        "    #     # outputs*=1 / probs\n",
        "    # # print(outputs, T)\n",
        "    # # ouputs = math.pow(outputs, 1/(2*T))\n",
        "    # # sum_probs = math\n",
        "    # sum_probs = sum_probs/N\n",
        "    # sum_probs = math.exp(sum_probs)\n",
        "    # sum_probs = math.pow(2, sum_probs)\n",
        "\n",
        "\n",
        "    perp, T = 0.0, 0\n",
        "    for sentence in data:\n",
        "        sentence = tuple(sentence)\n",
        "        # print(sentence)\n",
        "        for i in range(1, len(sentence)):\n",
        "            nc = min(n-1, i)\n",
        "            context = sentence[i-nc:i]\n",
        "            prob = get_prob(model, context, sentence[i])\n",
        "            # print(prob, context, sentence[i])\n",
        "            perp += -math.log(prob)\n",
        "            T += 1\n",
        "    perp = math.exp(perp/T)\n",
        "    return perp\n",
        "\n",
        "    # return sum_probs"
      ]
    },
    {
      "cell_type": "code",
      "execution_count": 177,
      "metadata": {
        "id": "9zHJvhxPHrD8",
        "colab": {
          "base_uri": "https://localhost:8080/"
        },
        "outputId": "5192366a-31d8-4bf9-a9fc-81524cf79860"
      },
      "outputs": [
        {
          "output_type": "stream",
          "name": "stdout",
          "text": [
            "The perplexity is 53.582886955857006\n"
          ]
        }
      ],
      "source": [
        "# COMPUTE PERPLEXITY ON VALIDATION SET\n",
        "\n",
        "print(\"The perplexity is\", perplexity(model, valid_data, n=n))"
      ]
    },
    {
      "cell_type": "code",
      "source": [
        "# output = {'ok': 3}\n",
        "# output.update({'yes': 9})\n",
        "# output"
      ],
      "metadata": {
        "id": "QhjqkFHdCJpS"
      },
      "execution_count": 187,
      "outputs": []
    },
    {
      "cell_type": "code",
      "execution_count": 179,
      "metadata": {
        "id": "A0rN2djNHrD8"
      },
      "outputs": [],
      "source": [
        "def get_proba_distrib(model, context):\n",
        "    ## need to get the the words after the context and their probability of appearance\n",
        "    ## after this context \n",
        "    '''\n",
        "    Parameters: \n",
        "    model (dictionary of dictionary)\n",
        "    {\n",
        "        context: {word:probability of this word given context}\n",
        "    }\n",
        "    context (list of strings): the sentence we need to find the words after it and \n",
        "    thier probabilites\n",
        "    \n",
        "    Retunrs:\n",
        "    words_and_probs(dic): {word: probability of word given context}\n",
        "    \n",
        "    '''\n",
        "    # code a recursive function over context\n",
        "    # to find the longest available ngram\n",
        "    \n",
        "    ## FILL CODE\n",
        "    output = {}\n",
        "    # n_gram = len(list(model)[0])\n",
        "    # size_context = len(context) \n",
        "    # probs = model[context[-n_gram:]][w]\n",
        "    # subcontext = context[-n_gram:]\n",
        "    # print(subcontext)\n",
        "    if len(context) != 0:\n",
        "        # print(context, 'with some word inside')\n",
        "        # output.update(model[context])\n",
        "        for word in model[context]:\n",
        "            if model[context][word] > 0:\n",
        "                output.update({word: model[context][word]})\n",
        "\n",
        "        output.update(get_proba_distrib(model, context[1:]))\n",
        "\n",
        "    return output"
      ]
    },
    {
      "cell_type": "code",
      "source": [
        "model[(\"won't\", 'allow')]"
      ],
      "metadata": {
        "colab": {
          "base_uri": "https://localhost:8080/"
        },
        "id": "iu2zUjgh86AI",
        "outputId": "54349094-0a6e-4221-8b33-618c3722b6fe"
      },
      "execution_count": 180,
      "outputs": [
        {
          "output_type": "execute_result",
          "data": {
            "text/plain": [
              "defaultdict(<function __main__.build_ngram.<locals>.<lambda>.<locals>.<lambda>>,\n",
              "            {})"
            ]
          },
          "metadata": {},
          "execution_count": 180
        }
      ]
    },
    {
      "cell_type": "code",
      "source": [
        "\n",
        "all = valid_data[0]\n",
        "context = tuple(all[:-2])\n",
        "# print(all, context)\n",
        "\n",
        "get_proba_distrib(model, context)"
      ],
      "metadata": {
        "colab": {
          "base_uri": "https://localhost:8080/"
        },
        "id": "rlFBCWqQzwAp",
        "outputId": "453be3b6-1ea0-4c91-9a00-ee0b8784c24d"
      },
      "execution_count": 181,
      "outputs": [
        {
          "output_type": "execute_result",
          "data": {
            "text/plain": [
              "{'<unk>': 0.004310344827586207,\n",
              " 'about': 0.004310344827586207,\n",
              " 'american': 0.0021551724137931034,\n",
              " 'another': 0.0021551724137931034,\n",
              " 'anything': 0.004310344827586207,\n",
              " 'anything.': 0.004310344827586207,\n",
              " 'as': 0.00646551724137931,\n",
              " 'before': 0.004310344827586207,\n",
              " 'everything': 0.010775862068965518,\n",
              " 'for': 0.0021551724137931034,\n",
              " 'go': 0.0021551724137931034,\n",
              " 'here.': 0.0021551724137931034,\n",
              " 'his': 0.0021551724137931034,\n",
              " 'homework.': 0.0021551724137931034,\n",
              " 'i': 0.008620689655172414,\n",
              " 'if': 0.0021551724137931034,\n",
              " 'in': 0.0021551724137931034,\n",
              " 'it': 0.008620689655172414,\n",
              " 'it,': 0.0021551724137931034,\n",
              " 'it.': 0.008620689655172414,\n",
              " 'kill': 0.0021551724137931034,\n",
              " 'know': 0.0021551724137931034,\n",
              " 'my': 0.0021551724137931034,\n",
              " 'not': 0.021551724137931036,\n",
              " 'now': 0.0021551724137931034,\n",
              " 'other': 0.0021551724137931034,\n",
              " 'people': 0.0021551724137931034,\n",
              " 'some': 0.0021551724137931034,\n",
              " 'that': 0.1961206896551724,\n",
              " 'that,': 0.01939655172413793,\n",
              " 'that.': 0.33620689655172414,\n",
              " 'that?': 0.01939655172413793,\n",
              " 'the': 0.02586206896551724,\n",
              " 'then?': 0.0021551724137931034,\n",
              " 'they': 0.017241379310344827,\n",
              " 'they?': 0.010775862068965518,\n",
              " 'things.': 0.0021551724137931034,\n",
              " 'this': 0.008620689655172414,\n",
              " 'this.': 0.004310344827586207,\n",
              " 'thou': 0.0021551724137931034,\n",
              " 'to': 0.00646551724137931,\n",
              " 'tom': 0.00646551724137931,\n",
              " 'we': 0.00646551724137931,\n",
              " 'what': 0.021551724137931036,\n",
              " 'whatever': 0.008620689655172414,\n",
              " 'when': 0.0021551724137931034,\n",
              " 'with': 0.010775862068965518,\n",
              " 'without': 0.004310344827586207,\n",
              " 'yet.': 0.0021551724137931034,\n",
              " 'you': 0.16163793103448276,\n",
              " 'you?': 0.0021551724137931034}"
            ]
          },
          "metadata": {},
          "execution_count": 181
        }
      ]
    },
    {
      "cell_type": "code",
      "execution_count": 182,
      "metadata": {
        "id": "oxrYVkqMHrD9"
      },
      "outputs": [],
      "source": [
        "def generate(model):\n",
        "    '''\n",
        "    Parameters: \n",
        "    model (dictionary of dictionary)\n",
        "    {\n",
        "        context: {word:probability of this word given context}\n",
        "    }\n",
        "    \n",
        "    Retunrs:\n",
        "    sentence (list of strings): a sentence sampled according to the language model. \n",
        "    \n",
        "    '''\n",
        "    # generate a sentence. A sentence starts with a <s> and ends with a </s>\n",
        "    # Possiblly a use function is:\n",
        "    # np.random.choice(x, 1, p = y)\n",
        "\n",
        "    # where x is a list of things to sample from\n",
        "    # and y is a list of probability (of the same length as x)\n",
        "\n",
        "    sentence = [\"<s>\"]\n",
        "    while sentence[-1] != \"</s>\" and len(sentence)<100:\n",
        "        ## FILL CODE\n",
        "        context = tuple(sentence)\n",
        "        predict = get_proba_distrib(model, context)\n",
        "        x = list(predict.keys())\n",
        "        y = list(predict.values())\n",
        "        # print(x, y)\n",
        "\n",
        "        word = np.random.choice(x, 1, p = y)\n",
        "        sentence.append(word[0])\n",
        "        \n",
        "    return sentence"
      ]
    },
    {
      "cell_type": "code",
      "execution_count": 186,
      "metadata": {
        "id": "MLeu9nZLHrD9",
        "colab": {
          "base_uri": "https://localhost:8080/"
        },
        "outputId": "e70897e2-cc0d-441b-e6bf-c5643df93391"
      },
      "outputs": [
        {
          "output_type": "stream",
          "name": "stdout",
          "text": [
            "Generated sentence:  ['<s>', 'you', \"don't\", 'feel', 'myself', 'in', 'the', 'train', 'from', 'the', 'way', 'you', 'can.', '</s>']\n"
          ]
        }
      ],
      "source": [
        "# GENERATE A SENTENCE FROM THE MODEL\n",
        "# generate(model)\n",
        "print(\"Generated sentence: \",generate(model))"
      ]
    },
    {
      "cell_type": "markdown",
      "metadata": {
        "id": "e2IRdlqnHrD-"
      },
      "source": [
        "Once you are done implementing the model, evaluation and generation code, you can try changing the value of `n`, and play with a larger training set (`train2.txt` and `valid2.txt`). You can also try to implement an interpolation model."
      ]
    },
    {
      "cell_type": "code",
      "execution_count": 21,
      "metadata": {
        "id": "UVrabwO1HrD-"
      },
      "outputs": [],
      "source": [
        ""
      ]
    }
  ],
  "metadata": {
    "kernelspec": {
      "display_name": "Python 3",
      "language": "python",
      "name": "python3"
    },
    "language_info": {
      "codemirror_mode": {
        "name": "ipython",
        "version": 3
      },
      "file_extension": ".py",
      "mimetype": "text/x-python",
      "name": "python",
      "nbconvert_exporter": "python",
      "pygments_lexer": "ipython3",
      "version": "3.6.2+"
    },
    "colab": {
      "name": "n_gram_models.ipynb",
      "provenance": [],
      "collapsed_sections": [],
      "include_colab_link": true
    }
  },
  "nbformat": 4,
  "nbformat_minor": 0
}
